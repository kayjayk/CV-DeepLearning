{
 "cells": [
  {
   "cell_type": "code",
   "execution_count": 1,
   "metadata": {
    "scrolled": true
   },
   "outputs": [
    {
     "name": "stderr",
     "output_type": "stream",
     "text": [
      "Using TensorFlow backend.\n"
     ]
    }
   ],
   "source": [
    "import numpy as np\n",
    "import os\n",
    "# import cv2\n",
    "from keras.models import Sequential, Model, load_model\n",
    "from keras.layers import *\n",
    "from keras.callbacks import *\n",
    "from keras.preprocessing.image import ImageDataGenerator\n",
    "from keras.optimizers import SGD, adam\n",
    "from sklearn.metrics import classification_report, confusion_matrix\n",
    "from keras.applications.densenet import DenseNet121\n",
    "\n",
    "# 랜덤시드 고정시키기\n",
    "np.random.seed(3)"
   ]
  },
  {
   "cell_type": "code",
   "execution_count": 2,
   "metadata": {},
   "outputs": [],
   "source": [
    "# import cv2"
   ]
  },
  {
   "cell_type": "code",
   "execution_count": 4,
   "metadata": {},
   "outputs": [],
   "source": [
    "model_2 = DenseNet121(include_top=True, weights = None, input_tensor=None, input_shape=(224,224,3), pooling=None, classes=7)"
   ]
  },
  {
   "cell_type": "code",
   "execution_count": 5,
   "metadata": {},
   "outputs": [],
   "source": [
    "train_datagen = ImageDataGenerator(rescale=1./255)\n",
    "test_datagen = ImageDataGenerator(rescale=1./255)\n",
    "val_datagen = ImageDataGenerator(rescale=1./255)\n",
    "\n",
    "batch_size = 32 # 16->64->32\n",
    "epochs = 100 # 50->100\n",
    "train_path = '/home/mywork/kijun_kwon/data_split1/train'\n",
    "test_path = '/home/mywork/kijun_kwon/data_split1/test'\n",
    "val_path = '/home/mywork/kijun_kwon/data_split1/val'\n",
    "target_size = 224\n",
    "num_train = 1965\n",
    "num_test = 658\n",
    "num_val = 655\n",
    "\n",
    "class_root='/home/mywork/kijun_kwon/data_split1/train'\n",
    "class_list = [ item for item in os.listdir(class_root) if os.path.isdir(os.path.join(class_root, item)) ]"
   ]
  },
  {
   "cell_type": "code",
   "execution_count": 6,
   "metadata": {
    "scrolled": true
   },
   "outputs": [
    {
     "name": "stdout",
     "output_type": "stream",
     "text": [
      "Found 1965 images belonging to 7 classes.\n",
      "Found 658 images belonging to 7 classes.\n",
      "Found 655 images belonging to 7 classes.\n"
     ]
    }
   ],
   "source": [
    "train_generator = train_datagen.flow_from_directory(\n",
    "        train_path,\n",
    "        color_mode = \"rgb\",\n",
    "        target_size=(target_size, target_size), #높을수록 이미지 손실 줄임.\n",
    "        batch_size = batch_size,\n",
    "        class_mode='categorical')\n",
    "\n",
    "test_generator = test_datagen.flow_from_directory(\n",
    "        test_path,\n",
    "        color_mode = \"rgb\",\n",
    "        target_size=(target_size, target_size),    \n",
    "        batch_size=batch_size,\n",
    "        class_mode='categorical')\n",
    "\n",
    "val_generator = val_datagen.flow_from_directory(\n",
    "        val_path,\n",
    "        color_mode = \"rgb\",\n",
    "        target_size=(target_size, target_size),\n",
    "        batch_size=batch_size,\n",
    "        class_mode='categorical')"
   ]
  },
  {
   "cell_type": "code",
   "execution_count": 7,
   "metadata": {},
   "outputs": [
    {
     "data": {
      "text/plain": [
       "224"
      ]
     },
     "execution_count": 7,
     "metadata": {},
     "output_type": "execute_result"
    }
   ],
   "source": [
    "target_size"
   ]
  },
  {
   "cell_type": "code",
   "execution_count": 9,
   "metadata": {},
   "outputs": [],
   "source": [
    "model = model_2"
   ]
  },
  {
   "cell_type": "code",
   "execution_count": 10,
   "metadata": {},
   "outputs": [],
   "source": [
    "model.compile(loss='categorical_crossentropy', optimizer='adam', metrics=['accuracy'])"
   ]
  },
  {
   "cell_type": "code",
   "execution_count": 11,
   "metadata": {},
   "outputs": [],
   "source": [
    "model_checkpoint = ModelCheckpoint(('./densenet.{epoch:02d}.hdf5'),\n",
    "                                   monitor='val_loss',\n",
    "                                   verbose=1,\n",
    "                                   save_best_only=True,\n",
    "                                   save_weights_only=True)\n",
    "\n",
    "reduce_learning_rate = ReduceLROnPlateau(monitor='val_loss', factor=0.1,\n",
    "                                         patience=2, verbose=1)\n",
    "\n",
    "callbacks = [model_checkpoint, reduce_learning_rate]"
   ]
  },
  {
   "cell_type": "code",
   "execution_count": 12,
   "metadata": {
    "scrolled": false
   },
   "outputs": [
    {
     "name": "stdout",
     "output_type": "stream",
     "text": [
      "Epoch 1/10\n",
      "61/61 [==============================] - 44s 727ms/step - loss: 0.9792 - acc: 0.6534 - val_loss: 10.7104 - val_acc: 0.2844\n",
      "Epoch 2/10\n",
      "61/61 [==============================] - 18s 296ms/step - loss: 0.6638 - acc: 0.7715 - val_loss: 14.5244 - val_acc: 0.0979\n",
      "Epoch 3/10\n",
      "61/61 [==============================] - 18s 296ms/step - loss: 0.6708 - acc: 0.7660 - val_loss: 10.6683 - val_acc: 0.1669\n",
      "Epoch 4/10\n",
      "61/61 [==============================] - 18s 287ms/step - loss: 0.5851 - acc: 0.7845 - val_loss: 10.3197 - val_acc: 0.1685\n",
      "Epoch 5/10\n",
      "61/61 [==============================] - 18s 290ms/step - loss: 0.4320 - acc: 0.8374 - val_loss: 13.4275 - val_acc: 0.1027\n",
      "Epoch 6/10\n",
      "61/61 [==============================] - 18s 290ms/step - loss: 0.3900 - acc: 0.8555 - val_loss: 10.3251 - val_acc: 0.2809\n",
      "Epoch 7/10\n",
      "61/61 [==============================] - 18s 288ms/step - loss: 0.4493 - acc: 0.8399 - val_loss: 1.7894 - val_acc: 0.5313\n",
      "Epoch 8/10\n",
      "61/61 [==============================] - 17s 286ms/step - loss: 0.3659 - acc: 0.8681 - val_loss: 1.6742 - val_acc: 0.3788\n",
      "Epoch 9/10\n",
      "61/61 [==============================] - 18s 288ms/step - loss: 0.3688 - acc: 0.8663 - val_loss: 2.7833 - val_acc: 0.3692\n",
      "Epoch 10/10\n",
      "61/61 [==============================] - 17s 285ms/step - loss: 0.3008 - acc: 0.8838 - val_loss: 4.2427 - val_acc: 0.3820\n"
     ]
    },
    {
     "data": {
      "text/plain": [
       "<keras.callbacks.History at 0x7f9a97ebb438>"
      ]
     },
     "execution_count": 12,
     "metadata": {},
     "output_type": "execute_result"
    }
   ],
   "source": [
    "model.fit_generator(\n",
    "        train_generator,\n",
    "        steps_per_epoch = num_train // batch_size,\n",
    "        epochs=10,\n",
    "        validation_data=val_generator,\n",
    "        validation_steps= num_val // batch_size)"
   ]
  },
  {
   "cell_type": "code",
   "execution_count": 40,
   "metadata": {},
   "outputs": [
    {
     "ename": "ImportError",
     "evalue": "No module named 'cv2'",
     "output_type": "error",
     "traceback": [
      "\u001b[0;31m---------------------------------------------------------------------------\u001b[0m",
      "\u001b[0;31mImportError\u001b[0m                               Traceback (most recent call last)",
      "\u001b[0;32m<ipython-input-40-c8ec22b3e787>\u001b[0m in \u001b[0;36m<module>\u001b[0;34m\u001b[0m\n\u001b[0;32m----> 1\u001b[0;31m \u001b[0;32mimport\u001b[0m \u001b[0mcv2\u001b[0m\u001b[0;34m\u001b[0m\u001b[0m\n\u001b[0m",
      "\u001b[0;31mImportError\u001b[0m: No module named 'cv2'"
     ]
    }
   ],
   "source": []
  },
  {
   "cell_type": "code",
   "execution_count": 18,
   "metadata": {},
   "outputs": [],
   "source": [
    "# out = model.predict(im)\n",
    "# print (np.argmax(out))"
   ]
  },
  {
   "cell_type": "code",
   "execution_count": 13,
   "metadata": {
    "scrolled": false
   },
   "outputs": [
    {
     "name": "stdout",
     "output_type": "stream",
     "text": [
      "Confusion Matrix\n",
      "[[ 39   1   0  20   0  66   2]\n",
      " [ 28   0   0  10   0  36   0]\n",
      " [ 73   1   0  23   0 128   0]\n",
      " [ 32   0   0   6   0  31   0]\n",
      " [  8   0   0   1   0   9   0]\n",
      " [ 30   0   0   9   0  50   0]\n",
      " [ 18   0   0   9   0  28   0]]\n",
      "Classification Report\n",
      "               precision    recall  f1-score   support\n",
      "\n",
      "         sink       0.17      0.30      0.22       128\n",
      "           ok       0.00      0.00      0.00        74\n",
      "         dent       0.00      0.00      0.00       225\n",
      "      scratch       0.08      0.09      0.08        69\n",
      "    substance       0.00      0.00      0.00        18\n",
      "        other       0.14      0.56      0.23        89\n",
      "discoloration       0.00      0.00      0.00        55\n",
      "\n",
      "    micro avg       0.14      0.14      0.14       658\n",
      "    macro avg       0.06      0.14      0.08       658\n",
      " weighted avg       0.06      0.14      0.08       658\n",
      "\n"
     ]
    },
    {
     "name": "stderr",
     "output_type": "stream",
     "text": [
      "/usr/local/lib/python3.5/dist-packages/sklearn/metrics/classification.py:1143: UndefinedMetricWarning: Precision and F-score are ill-defined and being set to 0.0 in labels with no predicted samples.\n",
      "  'precision', 'predicted', average, warn_for)\n"
     ]
    }
   ],
   "source": [
    "Y_pred = model.predict_generator(test_generator, num_test // batch_size+1)\n",
    "y_pred = np.argmax(Y_pred, axis=1)\n",
    "print('Confusion Matrix')\n",
    "print(confusion_matrix(test_generator.classes, y_pred))\n",
    "print('Classification Report')\n",
    "print(classification_report(test_generator.classes, y_pred, target_names=class_list))"
   ]
  },
  {
   "cell_type": "code",
   "execution_count": 14,
   "metadata": {
    "scrolled": true
   },
   "outputs": [
    {
     "name": "stdout",
     "output_type": "stream",
     "text": [
      "-- Evaluate --\n",
      "acc: 35.00%\n"
     ]
    }
   ],
   "source": [
    "print(\"-- Evaluate --\")\n",
    "scores = model.evaluate_generator(test_generator, steps=5)\n",
    "print(\"%s: %.2f%%\" %(model.metrics_names[1], scores[1]*100))"
   ]
  },
  {
   "cell_type": "code",
   "execution_count": null,
   "metadata": {},
   "outputs": [],
   "source": []
  }
 ],
 "metadata": {
  "kernelspec": {
   "display_name": "Python 3",
   "language": "python",
   "name": "python3"
  },
  "language_info": {
   "codemirror_mode": {
    "name": "ipython",
    "version": 3
   },
   "file_extension": ".py",
   "mimetype": "text/x-python",
   "name": "python",
   "nbconvert_exporter": "python",
   "pygments_lexer": "ipython3",
   "version": "3.5.2"
  }
 },
 "nbformat": 4,
 "nbformat_minor": 2
}
