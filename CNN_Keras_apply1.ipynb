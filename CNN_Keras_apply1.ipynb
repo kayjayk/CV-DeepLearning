{
 "cells": [
  {
   "cell_type": "code",
   "execution_count": 1,
   "metadata": {},
   "outputs": [
    {
     "name": "stderr",
     "output_type": "stream",
     "text": [
      "Using TensorFlow backend.\n"
     ]
    }
   ],
   "source": [
    "import numpy as np\n",
    "from keras.models import Sequential\n",
    "from keras.layers import Dense\n",
    "from keras.layers import Flatten\n",
    "from keras.layers.convolutional import Conv2D\n",
    "from keras.layers.convolutional import MaxPooling2D\n",
    "from keras.preprocessing.image import ImageDataGenerator\n",
    "\n",
    "# 랜덤시드 고정시키기\n",
    "np.random.seed(3)"
   ]
  },
  {
   "cell_type": "code",
   "execution_count": 2,
   "metadata": {},
   "outputs": [
    {
     "name": "stdout",
     "output_type": "stream",
     "text": [
      "Found 1965 images belonging to 7 classes.\n",
      "Found 658 images belonging to 7 classes.\n",
      "Found 655 images belonging to 7 classes.\n"
     ]
    }
   ],
   "source": [
    "train_datagen = ImageDataGenerator(rescale=1./255)\n",
    "test_datagen = ImageDataGenerator(rescale=1./255)\n",
    "val_datagen = ImageDataGenerator(rescale=1./255)\n",
    "\n",
    "train_generator = train_datagen.flow_from_directory(\n",
    "        '/home/mywork/kijun_kwon/data_split1/train',\n",
    "        target_size=(300, 300),\n",
    "        batch_size = 16,\n",
    "        class_mode='categorical')\n",
    "\n",
    "test_generator = test_datagen.flow_from_directory(\n",
    "        '/home/mywork/kijun_kwon/data_split1/test',\n",
    "        target_size=(300, 300),    \n",
    "        batch_size=16,\n",
    "        class_mode='categorical')\n",
    "\n",
    "val_generator = val_datagen.flow_from_directory(\n",
    "        '/home/mywork/kijun_kwon/data_split1/val',\n",
    "        target_size=(256,256),    \n",
    "        batch_size=16,\n",
    "        class_mode='categorical')"
   ]
  },
  {
   "cell_type": "code",
   "execution_count": 3,
   "metadata": {},
   "outputs": [],
   "source": [
    "model = Sequential()\n",
    "model.add(Conv2D(32, kernel_size=(3, 3),\n",
    "                 activation='relu',\n",
    "                 input_shape=(256,256,3)))\n",
    "model.add(Conv2D(64, (3, 3), activation='relu'))\n",
    "model.add(MaxPooling2D(pool_size=(2, 2)))\n",
    "model.add(Flatten())\n",
    "model.add(Dense(128, activation='relu'))\n",
    "model.add(Dense(7, activation='softmax'))"
   ]
  },
  {
   "cell_type": "code",
   "execution_count": 4,
   "metadata": {},
   "outputs": [],
   "source": [
    "model.compile(loss='categorical_crossentropy', optimizer='adam', metrics=['accuracy'])"
   ]
  },
  {
   "cell_type": "code",
   "execution_count": 8,
   "metadata": {},
   "outputs": [
    {
     "name": "stdout",
     "output_type": "stream",
     "text": [
      "Epoch 1/50\n",
      "15/15 [==============================] - 2s 117ms/step - loss: 0.2118 - acc: 0.9125 - val_loss: 0.9211 - val_acc: 0.7750\n",
      "Epoch 2/50\n",
      "15/15 [==============================] - 2s 107ms/step - loss: 0.1480 - acc: 0.9375 - val_loss: 0.8774 - val_acc: 0.7125\n",
      "Epoch 3/50\n",
      "15/15 [==============================] - 2s 110ms/step - loss: 0.2529 - acc: 0.9125 - val_loss: 0.7426 - val_acc: 0.7750\n",
      "Epoch 4/50\n",
      "15/15 [==============================] - 2s 106ms/step - loss: 0.2362 - acc: 0.9083 - val_loss: 1.0134 - val_acc: 0.7250\n",
      "Epoch 5/50\n",
      "15/15 [==============================] - 2s 118ms/step - loss: 0.2853 - acc: 0.9083 - val_loss: 1.0871 - val_acc: 0.7500\n",
      "Epoch 6/50\n",
      "15/15 [==============================] - 2s 119ms/step - loss: 0.2617 - acc: 0.9250 - val_loss: 0.9327 - val_acc: 0.7375\n",
      "Epoch 7/50\n",
      "15/15 [==============================] - 2s 113ms/step - loss: 0.2576 - acc: 0.9167 - val_loss: 0.7446 - val_acc: 0.7750\n",
      "Epoch 8/50\n",
      "15/15 [==============================] - 2s 134ms/step - loss: 0.2238 - acc: 0.9208 - val_loss: 1.0967 - val_acc: 0.7000\n",
      "Epoch 9/50\n",
      "15/15 [==============================] - 2s 132ms/step - loss: 0.1475 - acc: 0.9417 - val_loss: 0.3980 - val_acc: 0.8861\n",
      "Epoch 10/50\n",
      "15/15 [==============================] - 1s 100ms/step - loss: 0.1020 - acc: 0.9708 - val_loss: 0.8945 - val_acc: 0.8250\n",
      "Epoch 11/50\n",
      "15/15 [==============================] - 1s 99ms/step - loss: 0.1949 - acc: 0.9250 - val_loss: 1.0534 - val_acc: 0.7000\n",
      "Epoch 12/50\n",
      "15/15 [==============================] - 2s 109ms/step - loss: 0.1901 - acc: 0.9375 - val_loss: 1.0986 - val_acc: 0.6500\n",
      "Epoch 13/50\n",
      "15/15 [==============================] - 2s 105ms/step - loss: 0.1578 - acc: 0.9583 - val_loss: 0.8337 - val_acc: 0.7750\n",
      "Epoch 14/50\n",
      "15/15 [==============================] - 2s 105ms/step - loss: 0.2259 - acc: 0.9208 - val_loss: 1.3579 - val_acc: 0.6500\n",
      "Epoch 15/50\n",
      "15/15 [==============================] - 2s 102ms/step - loss: 0.1343 - acc: 0.9667 - val_loss: 1.3837 - val_acc: 0.6375\n",
      "Epoch 16/50\n",
      "15/15 [==============================] - 2s 106ms/step - loss: 0.1294 - acc: 0.9625 - val_loss: 1.0769 - val_acc: 0.6625\n",
      "Epoch 17/50\n",
      "15/15 [==============================] - 2s 131ms/step - loss: 0.0880 - acc: 0.9792 - val_loss: 0.9387 - val_acc: 0.6962\n",
      "Epoch 18/50\n",
      "15/15 [==============================] - 1s 100ms/step - loss: 0.0730 - acc: 0.9792 - val_loss: 1.5049 - val_acc: 0.7375\n",
      "Epoch 19/50\n",
      "15/15 [==============================] - 1s 99ms/step - loss: 0.1038 - acc: 0.9708 - val_loss: 0.8418 - val_acc: 0.7625\n",
      "Epoch 20/50\n",
      "15/15 [==============================] - 1s 97ms/step - loss: 0.1034 - acc: 0.9583 - val_loss: 0.9027 - val_acc: 0.7875\n",
      "Epoch 21/50\n",
      "15/15 [==============================] - 1s 98ms/step - loss: 0.0784 - acc: 0.9667 - val_loss: 0.8345 - val_acc: 0.7500\n",
      "Epoch 22/50\n",
      "15/15 [==============================] - 2s 118ms/step - loss: 0.1239 - acc: 0.9667 - val_loss: 0.9507 - val_acc: 0.7125\n",
      "Epoch 23/50\n",
      "15/15 [==============================] - 2s 127ms/step - loss: 0.0999 - acc: 0.9532 - val_loss: 1.1288 - val_acc: 0.7375\n",
      "Epoch 24/50\n",
      "15/15 [==============================] - 1s 99ms/step - loss: 0.1219 - acc: 0.9542 - val_loss: 1.8258 - val_acc: 0.5500\n",
      "Epoch 25/50\n",
      "15/15 [==============================] - 2s 120ms/step - loss: 0.0664 - acc: 0.9833 - val_loss: 1.0583 - val_acc: 0.7468\n",
      "Epoch 26/50\n",
      "15/15 [==============================] - 2s 111ms/step - loss: 0.0690 - acc: 0.9875 - val_loss: 1.5561 - val_acc: 0.7375\n",
      "Epoch 27/50\n",
      "15/15 [==============================] - 2s 102ms/step - loss: 0.0779 - acc: 0.9750 - val_loss: 1.0610 - val_acc: 0.7125\n",
      "Epoch 28/50\n",
      "15/15 [==============================] - 2s 114ms/step - loss: 0.0216 - acc: 0.9958 - val_loss: 1.3826 - val_acc: 0.7250\n",
      "Epoch 29/50\n",
      "15/15 [==============================] - 2s 103ms/step - loss: 0.0714 - acc: 0.9792 - val_loss: 1.3761 - val_acc: 0.7000\n",
      "Epoch 30/50\n",
      "15/15 [==============================] - 1s 99ms/step - loss: 0.0935 - acc: 0.9792 - val_loss: 1.0497 - val_acc: 0.7250\n",
      "Epoch 31/50\n",
      "15/15 [==============================] - 2s 118ms/step - loss: 0.0663 - acc: 0.9792 - val_loss: 1.1608 - val_acc: 0.7000\n",
      "Epoch 32/50\n",
      "15/15 [==============================] - 2s 106ms/step - loss: 0.0401 - acc: 0.9917 - val_loss: 1.5295 - val_acc: 0.6500\n",
      "Epoch 33/50\n",
      "15/15 [==============================] - 2s 118ms/step - loss: 0.1007 - acc: 0.9792 - val_loss: 1.0571 - val_acc: 0.7089\n",
      "Epoch 34/50\n",
      "15/15 [==============================] - 2s 105ms/step - loss: 0.0570 - acc: 0.9792 - val_loss: 0.9778 - val_acc: 0.7500\n",
      "Epoch 35/50\n",
      "15/15 [==============================] - 2s 129ms/step - loss: 0.0152 - acc: 1.0000 - val_loss: 1.3517 - val_acc: 0.6875\n",
      "Epoch 36/50\n",
      "15/15 [==============================] - 2s 140ms/step - loss: 0.0539 - acc: 0.9917 - val_loss: 1.3949 - val_acc: 0.7500\n",
      "Epoch 37/50\n",
      "15/15 [==============================] - 2s 112ms/step - loss: 0.0397 - acc: 0.9875 - val_loss: 0.8076 - val_acc: 0.8000\n",
      "Epoch 38/50\n",
      "15/15 [==============================] - 2s 106ms/step - loss: 0.0986 - acc: 0.9667 - val_loss: 1.3379 - val_acc: 0.7250\n",
      "Epoch 39/50\n",
      "15/15 [==============================] - 2s 103ms/step - loss: 0.0251 - acc: 0.9917 - val_loss: 1.5057 - val_acc: 0.6625\n",
      "Epoch 40/50\n",
      "15/15 [==============================] - 2s 108ms/step - loss: 0.0408 - acc: 0.9917 - val_loss: 2.2970 - val_acc: 0.6375\n",
      "Epoch 41/50\n",
      "15/15 [==============================] - 2s 129ms/step - loss: 0.0472 - acc: 0.9833 - val_loss: 1.9306 - val_acc: 0.6835\n",
      "Epoch 42/50\n",
      "15/15 [==============================] - 2s 126ms/step - loss: 0.0386 - acc: 0.9908 - val_loss: 1.3091 - val_acc: 0.7375\n",
      "Epoch 43/50\n",
      "15/15 [==============================] - 2s 119ms/step - loss: 0.0112 - acc: 1.0000 - val_loss: 1.8851 - val_acc: 0.6375\n",
      "Epoch 44/50\n",
      "15/15 [==============================] - 2s 106ms/step - loss: 0.0334 - acc: 0.9875 - val_loss: 1.5969 - val_acc: 0.7500\n",
      "Epoch 45/50\n",
      "15/15 [==============================] - 2s 118ms/step - loss: 0.0310 - acc: 0.9833 - val_loss: 1.4809 - val_acc: 0.7750\n",
      "Epoch 46/50\n",
      "15/15 [==============================] - 2s 112ms/step - loss: 0.0306 - acc: 0.9917 - val_loss: 1.2952 - val_acc: 0.7375\n",
      "Epoch 47/50\n",
      "15/15 [==============================] - 1s 99ms/step - loss: 0.0217 - acc: 0.9958 - val_loss: 0.8936 - val_acc: 0.8000\n",
      "Epoch 48/50\n",
      "15/15 [==============================] - 2s 107ms/step - loss: 0.0752 - acc: 0.9708 - val_loss: 1.1883 - val_acc: 0.7375\n",
      "Epoch 49/50\n",
      "15/15 [==============================] - 2s 129ms/step - loss: 0.0805 - acc: 0.9708 - val_loss: 1.4189 - val_acc: 0.7625\n",
      "Epoch 50/50\n",
      "15/15 [==============================] - 2s 166ms/step - loss: 0.0353 - acc: 0.9917 - val_loss: 1.1592 - val_acc: 0.6709\n"
     ]
    },
    {
     "data": {
      "text/plain": [
       "<keras.callbacks.History at 0x7f541c02e2b0>"
      ]
     },
     "execution_count": 8,
     "metadata": {},
     "output_type": "execute_result"
    }
   ],
   "source": [
    "model.fit_generator(\n",
    "        train_generator,\n",
    "        steps_per_epoch=15,\n",
    "        epochs=50,\n",
    "        validation_data=val_generator,\n",
    "        validation_steps=5)"
   ]
  },
  {
   "cell_type": "code",
   "execution_count": 9,
   "metadata": {
    "scrolled": true
   },
   "outputs": [
    {
     "name": "stdout",
     "output_type": "stream",
     "text": [
      "-- Evaluate --\n",
      "acc: 73.75%\n"
     ]
    }
   ],
   "source": [
    "print(\"-- Evaluate --\")\n",
    "scores = model.evaluate_generator(test_generator, steps=5)\n",
    "print(\"%s: %.2f%%\" %(model.metrics_names[1], scores[1]*100))"
   ]
  },
  {
   "cell_type": "code",
   "execution_count": null,
   "metadata": {},
   "outputs": [],
   "source": []
  }
 ],
 "metadata": {
  "kernelspec": {
   "display_name": "Python 3",
   "language": "python",
   "name": "python3"
  },
  "language_info": {
   "codemirror_mode": {
    "name": "ipython",
    "version": 3
   },
   "file_extension": ".py",
   "mimetype": "text/x-python",
   "name": "python",
   "nbconvert_exporter": "python",
   "pygments_lexer": "ipython3",
   "version": "3.5.2"
  }
 },
 "nbformat": 4,
 "nbformat_minor": 2
}
